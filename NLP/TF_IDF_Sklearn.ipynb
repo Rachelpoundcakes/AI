{
  "nbformat": 4,
  "nbformat_minor": 0,
  "metadata": {
    "colab": {
      "provenance": []
    },
    "kernelspec": {
      "name": "python3",
      "display_name": "Python 3"
    },
    "language_info": {
      "name": "python"
    }
  },
  "cells": [
    {
      "cell_type": "code",
      "execution_count": 1,
      "metadata": {
        "id": "hfbGMNisBG5H"
      },
      "outputs": [],
      "source": [
        "from sklearn.feature_extraction.text import CountVectorizer"
      ]
    },
    {
      "cell_type": "code",
      "source": [
        "documents = [\n",
        "    \"과일에는 비타민C가 다량 함유되어 있다.\", \n",
        "    \"비타민C를 채우기 위해서는 다양한 방법이 있다. 비타오백을 마시는 방법, 비타민C가 함유된 건강보조식품을 먹는 방법 등.\",\n",
        "    \"동남아에 가면 대체로 한국보다 과일을 저렴하게 살 수 있다.\",\n",
        "    \"비타민은 여러 종류가 있다.  비타민A, 비타민B, 비타민C, 비타민D...\",\n",
        "    \"한라봉은 제주 특산품으로, 많은 사람들이 즐겨 찾는 과일이다.\"\n",
        "]"
      ],
      "metadata": {
        "id": "G1f20Xw_Bnli"
      },
      "execution_count": 2,
      "outputs": []
    },
    {
      "cell_type": "code",
      "source": [
        "vectorizer = CountVectorizer()"
      ],
      "metadata": {
        "id": "FRvTAFmtDerC"
      },
      "execution_count": 3,
      "outputs": []
    },
    {
      "cell_type": "code",
      "source": [
        "# documents에서 각 단어의 빈도수 기록\n",
        "print(vectorizer.fit_transform(documents).toarray())"
      ],
      "metadata": {
        "colab": {
          "base_uri": "https://localhost:8080/"
        },
        "id": "9Oi1VRKfDf6r",
        "outputId": "b7cfbcf7-d673-4bf8-f14c-f3e22df176fe"
      },
      "execution_count": 6,
      "outputs": [
        {
          "output_type": "stream",
          "name": "stdout",
          "text": [
            "[[0 0 1 0 0 1 0 0 0 0 0 0 0 0 0 0 0 1 0 0 0 0 0 0 0 1 0 0 0 0 0 0 0 0 0 1\n",
            "  0]\n",
            " [0 1 0 0 0 0 1 0 0 1 0 1 2 1 0 0 0 1 1 0 0 1 0 0 1 1 0 0 0 0 0 1 0 0 0 0\n",
            "  1]\n",
            " [1 0 0 1 0 0 0 1 1 0 0 0 0 0 0 0 0 0 0 0 0 0 0 0 0 1 1 0 0 0 0 0 0 1 0 0\n",
            "  0]\n",
            " [0 0 0 0 0 0 0 0 0 0 0 0 0 0 1 1 1 0 0 1 1 0 0 1 0 1 0 0 1 0 0 0 0 0 0 0\n",
            "  0]\n",
            " [0 0 0 0 1 0 0 0 0 0 1 0 0 0 0 0 0 0 0 0 0 0 1 0 0 0 0 1 0 1 1 0 1 0 1 0\n",
            "  0]]\n"
          ]
        }
      ]
    },
    {
      "cell_type": "code",
      "source": [
        "# 각 단어와 맵핑된 인덱스 출력\n",
        "print(vectorizer.vocabulary_)"
      ],
      "metadata": {
        "colab": {
          "base_uri": "https://localhost:8080/"
        },
        "id": "cEfMKMhqDjsk",
        "outputId": "64502cb2-7a6c-422b-db9b-54db7f86bbc7"
      },
      "execution_count": 8,
      "outputs": [
        {
          "output_type": "stream",
          "name": "stdout",
          "text": [
            "{'과일에는': 2, '비타민c가': 17, '다량': 5, '함유되어': 35, '있다': 25, '비타민c를': 18, '채우기': 31, '위해서는': 24, '다양한': 6, '방법이': 13, '비타오백을': 21, '마시는': 9, '방법': 12, '함유된': 36, '건강보조식품을': 1, '먹는': 11, '동남아에': 8, '가면': 0, '대체로': 7, '한국보다': 33, '과일을': 3, '저렴하게': 26, '비타민은': 20, '여러': 23, '종류가': 28, '비타민a': 14, '비타민b': 15, '비타민c': 16, '비타민d': 19, '한라봉은': 34, '제주': 27, '특산품으로': 32, '많은': 10, '사람들이': 22, '즐겨': 29, '찾는': 30, '과일이다': 4}\n"
          ]
        }
      ]
    },
    {
      "cell_type": "code",
      "source": [
        "# 사이킷런은 TF-IDF를 자동 계산해주는 TfidfVectorizer를 제공한다.\n",
        "from sklearn.feature_extraction.text import TfidfVectorizer\n",
        "\n",
        "documents = [\n",
        "    \"과일에는 비타민C가 다량 함유되어 있다.\", \n",
        "    \"비타민C를 채우기 위해서는 다양한 방법이 있다. 비타오백을 마시는 방법, 비타민C가 함유된 건강보조식품을 먹는 방법 등.\",\n",
        "    \"동남아에 가면 대체로 한국보다 과일을 저렴하게 살 수 있다.\",\n",
        "    \"비타민은 여러 종류가 있다.  비타민A, 비타민B, 비타민C, 비타민D...\",\n",
        "    \"한라봉은 제주 특산품으로, 많은 사람들이 즐겨 찾는 과일이다.\"\n",
        "]\n",
        "\n",
        "tfidfv = TfidfVectorizer().fit(documents)\n",
        "print(tfidfv.transform(documents).toarray())\n",
        "print(tfidfv.vocabulary_)"
      ],
      "metadata": {
        "colab": {
          "base_uri": "https://localhost:8080/"
        },
        "id": "wgvVrj8aDqVQ",
        "outputId": "37a4aaaf-74a4-4036-f9b0-aade8f430f7a"
      },
      "execution_count": 10,
      "outputs": [
        {
          "output_type": "stream",
          "name": "stdout",
          "text": [
            "[[0.         0.         0.50199209 0.         0.         0.50199209\n",
            "  0.         0.         0.         0.         0.         0.\n",
            "  0.         0.         0.         0.         0.         0.40500406\n",
            "  0.         0.         0.         0.         0.         0.\n",
            "  0.         0.28281359 0.         0.         0.         0.\n",
            "  0.         0.         0.         0.         0.         0.50199209\n",
            "  0.        ]\n",
            " [0.         0.25847202 0.         0.         0.         0.\n",
            "  0.25847202 0.         0.         0.25847202 0.         0.25847202\n",
            "  0.51694403 0.25847202 0.         0.         0.         0.20853359\n",
            "  0.25847202 0.         0.         0.25847202 0.         0.\n",
            "  0.25847202 0.14561862 0.         0.         0.         0.\n",
            "  0.         0.25847202 0.         0.         0.         0.\n",
            "  0.25847202]\n",
            " [0.39786049 0.         0.         0.39786049 0.         0.\n",
            "  0.         0.39786049 0.39786049 0.         0.         0.\n",
            "  0.         0.         0.         0.         0.         0.\n",
            "  0.         0.         0.         0.         0.         0.\n",
            "  0.         0.22414766 0.39786049 0.         0.         0.\n",
            "  0.         0.         0.         0.39786049 0.         0.\n",
            "  0.        ]\n",
            " [0.         0.         0.         0.         0.         0.\n",
            "  0.         0.         0.         0.         0.         0.\n",
            "  0.         0.         0.3696763  0.3696763  0.3696763  0.\n",
            "  0.         0.3696763  0.3696763  0.         0.         0.3696763\n",
            "  0.         0.20826918 0.         0.         0.3696763  0.\n",
            "  0.         0.         0.         0.         0.         0.\n",
            "  0.        ]\n",
            " [0.         0.         0.         0.         0.35355339 0.\n",
            "  0.         0.         0.         0.         0.35355339 0.\n",
            "  0.         0.         0.         0.         0.         0.\n",
            "  0.         0.         0.         0.         0.35355339 0.\n",
            "  0.         0.         0.         0.35355339 0.         0.35355339\n",
            "  0.35355339 0.         0.35355339 0.         0.35355339 0.\n",
            "  0.        ]]\n",
            "{'과일에는': 2, '비타민c가': 17, '다량': 5, '함유되어': 35, '있다': 25, '비타민c를': 18, '채우기': 31, '위해서는': 24, '다양한': 6, '방법이': 13, '비타오백을': 21, '마시는': 9, '방법': 12, '함유된': 36, '건강보조식품을': 1, '먹는': 11, '동남아에': 8, '가면': 0, '대체로': 7, '한국보다': 33, '과일을': 3, '저렴하게': 26, '비타민은': 20, '여러': 23, '종류가': 28, '비타민a': 14, '비타민b': 15, '비타민c': 16, '비타민d': 19, '한라봉은': 34, '제주': 27, '특산품으로': 32, '많은': 10, '사람들이': 22, '즐겨': 29, '찾는': 30, '과일이다': 4}\n"
          ]
        }
      ]
    },
    {
      "cell_type": "code",
      "source": [
        "import pandas as pd\n",
        "tfidfv.vocabulary_"
      ],
      "metadata": {
        "id": "jqvD_j4-FEK0"
      },
      "execution_count": 11,
      "outputs": []
    },
    {
      "cell_type": "code",
      "source": [
        "result = tfidfv.transform(documents).toarray()\n",
        "tfidf_ = pd.DataFrame(result, columns = tfidfv.vocabulary_)\n",
        "tfidf_"
      ],
      "metadata": {
        "colab": {
          "base_uri": "https://localhost:8080/",
          "height": 317
        },
        "id": "gdLvHDvIGpVT",
        "outputId": "a4ff2e7a-6830-4309-cfa4-34a6e89b117a"
      },
      "execution_count": 16,
      "outputs": [
        {
          "output_type": "execute_result",
          "data": {
            "text/plain": [
              "      과일에는     비타민c가        다량     함유되어        있다     비타민c를       채우기  \\\n",
              "0  0.00000  0.000000  0.501992  0.00000  0.000000  0.501992  0.000000   \n",
              "1  0.00000  0.258472  0.000000  0.00000  0.000000  0.000000  0.258472   \n",
              "2  0.39786  0.000000  0.000000  0.39786  0.000000  0.000000  0.000000   \n",
              "3  0.00000  0.000000  0.000000  0.00000  0.000000  0.000000  0.000000   \n",
              "4  0.00000  0.000000  0.000000  0.00000  0.353553  0.000000  0.000000   \n",
              "\n",
              "      위해서는      다양한       방법이  ...      비타민c      비타민d      한라봉은        제주  \\\n",
              "0  0.00000  0.00000  0.000000  ...  0.000000  0.000000  0.000000  0.000000   \n",
              "1  0.00000  0.00000  0.258472  ...  0.000000  0.000000  0.000000  0.000000   \n",
              "2  0.39786  0.39786  0.000000  ...  0.000000  0.000000  0.000000  0.000000   \n",
              "3  0.00000  0.00000  0.000000  ...  0.000000  0.369676  0.000000  0.000000   \n",
              "4  0.00000  0.00000  0.000000  ...  0.353553  0.000000  0.353553  0.353553   \n",
              "\n",
              "      특산품으로        많은     사람들이        즐겨        찾는      과일이다  \n",
              "0  0.000000  0.000000  0.00000  0.000000  0.501992  0.000000  \n",
              "1  0.258472  0.000000  0.00000  0.000000  0.000000  0.258472  \n",
              "2  0.000000  0.000000  0.39786  0.000000  0.000000  0.000000  \n",
              "3  0.000000  0.000000  0.00000  0.000000  0.000000  0.000000  \n",
              "4  0.000000  0.353553  0.00000  0.353553  0.000000  0.000000  \n",
              "\n",
              "[5 rows x 37 columns]"
            ],
            "text/html": [
              "\n",
              "  <div id=\"df-4e790928-daf0-43a3-a1f5-44bbe27ef0d3\">\n",
              "    <div class=\"colab-df-container\">\n",
              "      <div>\n",
              "<style scoped>\n",
              "    .dataframe tbody tr th:only-of-type {\n",
              "        vertical-align: middle;\n",
              "    }\n",
              "\n",
              "    .dataframe tbody tr th {\n",
              "        vertical-align: top;\n",
              "    }\n",
              "\n",
              "    .dataframe thead th {\n",
              "        text-align: right;\n",
              "    }\n",
              "</style>\n",
              "<table border=\"1\" class=\"dataframe\">\n",
              "  <thead>\n",
              "    <tr style=\"text-align: right;\">\n",
              "      <th></th>\n",
              "      <th>과일에는</th>\n",
              "      <th>비타민c가</th>\n",
              "      <th>다량</th>\n",
              "      <th>함유되어</th>\n",
              "      <th>있다</th>\n",
              "      <th>비타민c를</th>\n",
              "      <th>채우기</th>\n",
              "      <th>위해서는</th>\n",
              "      <th>다양한</th>\n",
              "      <th>방법이</th>\n",
              "      <th>...</th>\n",
              "      <th>비타민c</th>\n",
              "      <th>비타민d</th>\n",
              "      <th>한라봉은</th>\n",
              "      <th>제주</th>\n",
              "      <th>특산품으로</th>\n",
              "      <th>많은</th>\n",
              "      <th>사람들이</th>\n",
              "      <th>즐겨</th>\n",
              "      <th>찾는</th>\n",
              "      <th>과일이다</th>\n",
              "    </tr>\n",
              "  </thead>\n",
              "  <tbody>\n",
              "    <tr>\n",
              "      <th>0</th>\n",
              "      <td>0.00000</td>\n",
              "      <td>0.000000</td>\n",
              "      <td>0.501992</td>\n",
              "      <td>0.00000</td>\n",
              "      <td>0.000000</td>\n",
              "      <td>0.501992</td>\n",
              "      <td>0.000000</td>\n",
              "      <td>0.00000</td>\n",
              "      <td>0.00000</td>\n",
              "      <td>0.000000</td>\n",
              "      <td>...</td>\n",
              "      <td>0.000000</td>\n",
              "      <td>0.000000</td>\n",
              "      <td>0.000000</td>\n",
              "      <td>0.000000</td>\n",
              "      <td>0.000000</td>\n",
              "      <td>0.000000</td>\n",
              "      <td>0.00000</td>\n",
              "      <td>0.000000</td>\n",
              "      <td>0.501992</td>\n",
              "      <td>0.000000</td>\n",
              "    </tr>\n",
              "    <tr>\n",
              "      <th>1</th>\n",
              "      <td>0.00000</td>\n",
              "      <td>0.258472</td>\n",
              "      <td>0.000000</td>\n",
              "      <td>0.00000</td>\n",
              "      <td>0.000000</td>\n",
              "      <td>0.000000</td>\n",
              "      <td>0.258472</td>\n",
              "      <td>0.00000</td>\n",
              "      <td>0.00000</td>\n",
              "      <td>0.258472</td>\n",
              "      <td>...</td>\n",
              "      <td>0.000000</td>\n",
              "      <td>0.000000</td>\n",
              "      <td>0.000000</td>\n",
              "      <td>0.000000</td>\n",
              "      <td>0.258472</td>\n",
              "      <td>0.000000</td>\n",
              "      <td>0.00000</td>\n",
              "      <td>0.000000</td>\n",
              "      <td>0.000000</td>\n",
              "      <td>0.258472</td>\n",
              "    </tr>\n",
              "    <tr>\n",
              "      <th>2</th>\n",
              "      <td>0.39786</td>\n",
              "      <td>0.000000</td>\n",
              "      <td>0.000000</td>\n",
              "      <td>0.39786</td>\n",
              "      <td>0.000000</td>\n",
              "      <td>0.000000</td>\n",
              "      <td>0.000000</td>\n",
              "      <td>0.39786</td>\n",
              "      <td>0.39786</td>\n",
              "      <td>0.000000</td>\n",
              "      <td>...</td>\n",
              "      <td>0.000000</td>\n",
              "      <td>0.000000</td>\n",
              "      <td>0.000000</td>\n",
              "      <td>0.000000</td>\n",
              "      <td>0.000000</td>\n",
              "      <td>0.000000</td>\n",
              "      <td>0.39786</td>\n",
              "      <td>0.000000</td>\n",
              "      <td>0.000000</td>\n",
              "      <td>0.000000</td>\n",
              "    </tr>\n",
              "    <tr>\n",
              "      <th>3</th>\n",
              "      <td>0.00000</td>\n",
              "      <td>0.000000</td>\n",
              "      <td>0.000000</td>\n",
              "      <td>0.00000</td>\n",
              "      <td>0.000000</td>\n",
              "      <td>0.000000</td>\n",
              "      <td>0.000000</td>\n",
              "      <td>0.00000</td>\n",
              "      <td>0.00000</td>\n",
              "      <td>0.000000</td>\n",
              "      <td>...</td>\n",
              "      <td>0.000000</td>\n",
              "      <td>0.369676</td>\n",
              "      <td>0.000000</td>\n",
              "      <td>0.000000</td>\n",
              "      <td>0.000000</td>\n",
              "      <td>0.000000</td>\n",
              "      <td>0.00000</td>\n",
              "      <td>0.000000</td>\n",
              "      <td>0.000000</td>\n",
              "      <td>0.000000</td>\n",
              "    </tr>\n",
              "    <tr>\n",
              "      <th>4</th>\n",
              "      <td>0.00000</td>\n",
              "      <td>0.000000</td>\n",
              "      <td>0.000000</td>\n",
              "      <td>0.00000</td>\n",
              "      <td>0.353553</td>\n",
              "      <td>0.000000</td>\n",
              "      <td>0.000000</td>\n",
              "      <td>0.00000</td>\n",
              "      <td>0.00000</td>\n",
              "      <td>0.000000</td>\n",
              "      <td>...</td>\n",
              "      <td>0.353553</td>\n",
              "      <td>0.000000</td>\n",
              "      <td>0.353553</td>\n",
              "      <td>0.353553</td>\n",
              "      <td>0.000000</td>\n",
              "      <td>0.353553</td>\n",
              "      <td>0.00000</td>\n",
              "      <td>0.353553</td>\n",
              "      <td>0.000000</td>\n",
              "      <td>0.000000</td>\n",
              "    </tr>\n",
              "  </tbody>\n",
              "</table>\n",
              "<p>5 rows × 37 columns</p>\n",
              "</div>\n",
              "      <button class=\"colab-df-convert\" onclick=\"convertToInteractive('df-4e790928-daf0-43a3-a1f5-44bbe27ef0d3')\"\n",
              "              title=\"Convert this dataframe to an interactive table.\"\n",
              "              style=\"display:none;\">\n",
              "        \n",
              "  <svg xmlns=\"http://www.w3.org/2000/svg\" height=\"24px\"viewBox=\"0 0 24 24\"\n",
              "       width=\"24px\">\n",
              "    <path d=\"M0 0h24v24H0V0z\" fill=\"none\"/>\n",
              "    <path d=\"M18.56 5.44l.94 2.06.94-2.06 2.06-.94-2.06-.94-.94-2.06-.94 2.06-2.06.94zm-11 1L8.5 8.5l.94-2.06 2.06-.94-2.06-.94L8.5 2.5l-.94 2.06-2.06.94zm10 10l.94 2.06.94-2.06 2.06-.94-2.06-.94-.94-2.06-.94 2.06-2.06.94z\"/><path d=\"M17.41 7.96l-1.37-1.37c-.4-.4-.92-.59-1.43-.59-.52 0-1.04.2-1.43.59L10.3 9.45l-7.72 7.72c-.78.78-.78 2.05 0 2.83L4 21.41c.39.39.9.59 1.41.59.51 0 1.02-.2 1.41-.59l7.78-7.78 2.81-2.81c.8-.78.8-2.07 0-2.86zM5.41 20L4 18.59l7.72-7.72 1.47 1.35L5.41 20z\"/>\n",
              "  </svg>\n",
              "      </button>\n",
              "      \n",
              "  <style>\n",
              "    .colab-df-container {\n",
              "      display:flex;\n",
              "      flex-wrap:wrap;\n",
              "      gap: 12px;\n",
              "    }\n",
              "\n",
              "    .colab-df-convert {\n",
              "      background-color: #E8F0FE;\n",
              "      border: none;\n",
              "      border-radius: 50%;\n",
              "      cursor: pointer;\n",
              "      display: none;\n",
              "      fill: #1967D2;\n",
              "      height: 32px;\n",
              "      padding: 0 0 0 0;\n",
              "      width: 32px;\n",
              "    }\n",
              "\n",
              "    .colab-df-convert:hover {\n",
              "      background-color: #E2EBFA;\n",
              "      box-shadow: 0px 1px 2px rgba(60, 64, 67, 0.3), 0px 1px 3px 1px rgba(60, 64, 67, 0.15);\n",
              "      fill: #174EA6;\n",
              "    }\n",
              "\n",
              "    [theme=dark] .colab-df-convert {\n",
              "      background-color: #3B4455;\n",
              "      fill: #D2E3FC;\n",
              "    }\n",
              "\n",
              "    [theme=dark] .colab-df-convert:hover {\n",
              "      background-color: #434B5C;\n",
              "      box-shadow: 0px 1px 3px 1px rgba(0, 0, 0, 0.15);\n",
              "      filter: drop-shadow(0px 1px 2px rgba(0, 0, 0, 0.3));\n",
              "      fill: #FFFFFF;\n",
              "    }\n",
              "  </style>\n",
              "\n",
              "      <script>\n",
              "        const buttonEl =\n",
              "          document.querySelector('#df-4e790928-daf0-43a3-a1f5-44bbe27ef0d3 button.colab-df-convert');\n",
              "        buttonEl.style.display =\n",
              "          google.colab.kernel.accessAllowed ? 'block' : 'none';\n",
              "\n",
              "        async function convertToInteractive(key) {\n",
              "          const element = document.querySelector('#df-4e790928-daf0-43a3-a1f5-44bbe27ef0d3');\n",
              "          const dataTable =\n",
              "            await google.colab.kernel.invokeFunction('convertToInteractive',\n",
              "                                                     [key], {});\n",
              "          if (!dataTable) return;\n",
              "\n",
              "          const docLinkHtml = 'Like what you see? Visit the ' +\n",
              "            '<a target=\"_blank\" href=https://colab.research.google.com/notebooks/data_table.ipynb>data table notebook</a>'\n",
              "            + ' to learn more about interactive tables.';\n",
              "          element.innerHTML = '';\n",
              "          dataTable['output_type'] = 'display_data';\n",
              "          await google.colab.output.renderOutput(dataTable, element);\n",
              "          const docLink = document.createElement('div');\n",
              "          docLink.innerHTML = docLinkHtml;\n",
              "          element.appendChild(docLink);\n",
              "        }\n",
              "      </script>\n",
              "    </div>\n",
              "  </div>\n",
              "  "
            ]
          },
          "metadata": {},
          "execution_count": 16
        }
      ]
    },
    {
      "cell_type": "code",
      "source": [],
      "metadata": {
        "id": "z2kbBm9dGrfy"
      },
      "execution_count": null,
      "outputs": []
    }
  ]
}
